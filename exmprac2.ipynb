{
  "nbformat": 4,
  "nbformat_minor": 0,
  "metadata": {
    "colab": {
      "name": "exmprac2.ipynb",
      "provenance": [],
      "authorship_tag": "ABX9TyPMVLKF1bBB81B+V0N6RRlD",
      "include_colab_link": true
    },
    "kernelspec": {
      "name": "python3",
      "display_name": "Python 3"
    }
  },
  "cells": [
    {
      "cell_type": "markdown",
      "metadata": {
        "id": "view-in-github",
        "colab_type": "text"
      },
      "source": [
        "<a href=\"https://colab.research.google.com/github/almatanjin/alma-cse/blob/master/exmprac2.ipynb\" target=\"_parent\"><img src=\"https://colab.research.google.com/assets/colab-badge.svg\" alt=\"Open In Colab\"/></a>"
      ]
    },
    {
      "cell_type": "code",
      "metadata": {
        "id": "8CqbxMgYXIp2",
        "colab_type": "code",
        "colab": {
          "base_uri": "https://localhost:8080/",
          "height": 51
        },
        "outputId": "a2af0989-db24-4f24-fc1e-654c1a9c7264"
      },
      "source": [
        "information = {\n",
        "    1 : {\n",
        "        \"ID\" : 1,\n",
        "        \"FirstName\" : \"Peter\",\n",
        "        \"LastName\" : \"Lee\",\n",
        "        \"Email\" : \"plee@university.edu\",\n",
        "        \"YearofBirth\" : 1992\n",
        "    },\n",
        "    2 : {\n",
        "        \"ID\" : 2,\n",
        "        \"FirstName\" : \"Jonatha\",\n",
        "        \"LastName\" : \"Edwards\",\n",
        "        \"Email\" : \"jedwards@university.edu\",\n",
        "        \"YearofBirth\" : 1994\n",
        "    },\n",
        "    3 : {\n",
        "        \"ID\" : 3,\n",
        "        \"FirstName\" : \"Marilyn\",\n",
        "        \"LastName\" : \"Johnson\",\n",
        "        \"Email\" : \"mjohnson@university.edu\",\n",
        "        \"YearofBirth\" : 1993\n",
        "    },\n",
        "    6 : {\n",
        "        \"ID\" : 6,\n",
        "        \"FirstName\" : \"Joe\",\n",
        "        \"LastName\" : \"Kim\",\n",
        "        \"Email\" : \"jkim@university.edu\",\n",
        "        \"YearofBirth\" : 1992\n",
        "    }\n",
        "}\n",
        "id=int(input())\n",
        "for i in information:\n",
        "     if id == i :\n",
        "         print (information[i])"
      ],
      "execution_count": null,
      "outputs": [
        {
          "output_type": "stream",
          "text": [
            "3\n",
            "{'ID': 3, 'FirstName': 'Marilyn', 'LastName': 'Johnson', 'Email': 'mjohnson@university.edu', 'YearofBirth': 1993}\n"
          ],
          "name": "stdout"
        }
      ]
    },
    {
      "cell_type": "code",
      "metadata": {
        "id": "rEBIq-cda0HV",
        "colab_type": "code",
        "colab": {}
      },
      "source": [
        "import math\n",
        "class calculator():\n",
        "  def power(self,a,b):\n",
        "    pow=o\n",
        "    pow=a**b\n",
        "    print(pow)\n",
        "  def log(self,a,base):\n",
        "    loge=0\n",
        "    loge=math.log(a,base)\n",
        "    print(loge)\n",
        "  def tan(self,p):\n",
        "    s=0\n",
        "    s=math.tan(p)\n",
        "    print(s)\n",
        "  def per(self,p):\n",
        "    s=0\n",
        "    s=p/100\n",
        "    print(s)"
      ],
      "execution_count": null,
      "outputs": []
    },
    {
      "cell_type": "code",
      "metadata": {
        "id": "2FbGLn4ocCp0",
        "colab_type": "code",
        "colab": {}
      },
      "source": [
        "a=calculator()"
      ],
      "execution_count": null,
      "outputs": []
    },
    {
      "cell_type": "code",
      "metadata": {
        "id": "Xg9xe1hNcGvy",
        "colab_type": "code",
        "colab": {
          "base_uri": "https://localhost:8080/",
          "height": 34
        },
        "outputId": "a284e110-e518-4027-cdcf-0af12ecd30fc"
      },
      "source": [
        "a.log(10,10)"
      ],
      "execution_count": null,
      "outputs": [
        {
          "output_type": "stream",
          "text": [
            "1.0\n"
          ],
          "name": "stdout"
        }
      ]
    }
  ]
}