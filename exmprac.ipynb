{
  "nbformat": 4,
  "nbformat_minor": 0,
  "metadata": {
    "colab": {
      "name": "exmprac.ipynb",
      "provenance": [],
      "authorship_tag": "ABX9TyMVXa58VMQBgAjcJicgYr79",
      "include_colab_link": true
    },
    "kernelspec": {
      "name": "python3",
      "display_name": "Python 3"
    }
  },
  "cells": [
    {
      "cell_type": "markdown",
      "metadata": {
        "id": "view-in-github",
        "colab_type": "text"
      },
      "source": [
        "<a href=\"https://colab.research.google.com/github/almatanjin/alma-cse/blob/master/exmprac.ipynb\" target=\"_parent\"><img src=\"https://colab.research.google.com/assets/colab-badge.svg\" alt=\"Open In Colab\"/></a>"
      ]
    },
    {
      "cell_type": "code",
      "metadata": {
        "id": "XqaNJrXpeu35",
        "colab_type": "code",
        "colab": {
          "base_uri": "https://localhost:8080/",
          "height": 34
        },
        "outputId": "fef056ce-c994-4ded-c9b0-744fd304b07f"
      },
      "source": [
        "def sum(n):\n",
        "    total = 1\n",
        "    for x in n:\n",
        "        total *= x\n",
        "    return total\n",
        "lis=[1,2,3]\n",
        "sum(lis)"
      ],
      "execution_count": null,
      "outputs": [
        {
          "output_type": "execute_result",
          "data": {
            "text/plain": [
              "6"
            ]
          },
          "metadata": {
            "tags": []
          },
          "execution_count": 17
        }
      ]
    },
    {
      "cell_type": "code",
      "metadata": {
        "id": "OkOpPXf_i_Tn",
        "colab_type": "code",
        "colab": {}
      },
      "source": [
        "def fact(n):\n",
        "  if n==0 :\n",
        "    return 1 \n",
        "  else :\n",
        "    return n*fact(n-1)"
      ],
      "execution_count": null,
      "outputs": []
    },
    {
      "cell_type": "code",
      "metadata": {
        "id": "1vB9lW99jPZ9",
        "colab_type": "code",
        "colab": {
          "base_uri": "https://localhost:8080/",
          "height": 34
        },
        "outputId": "b5fb19ad-abd5-4ad6-b12f-8be82bece3b7"
      },
      "source": [
        "print(fact(4))"
      ],
      "execution_count": null,
      "outputs": [
        {
          "output_type": "stream",
          "text": [
            "24\n"
          ],
          "name": "stdout"
        }
      ]
    },
    {
      "cell_type": "code",
      "metadata": {
        "id": "bAzV0fOskrH0",
        "colab_type": "code",
        "colab": {}
      },
      "source": [
        "def even(n) :\n",
        "  y=[]\n",
        "  for i in n:\n",
        "    if (i%2) == 0 :\n",
        "      y.append(i)\n",
        "  return y"
      ],
      "execution_count": null,
      "outputs": []
    },
    {
      "cell_type": "code",
      "metadata": {
        "id": "gFEqgKvnlFck",
        "colab_type": "code",
        "colab": {
          "base_uri": "https://localhost:8080/",
          "height": 34
        },
        "outputId": "fc5a4bda-54aa-497b-fd2c-07286e02d6b7"
      },
      "source": [
        "print(even([1,2,3,4,5,6]))"
      ],
      "execution_count": null,
      "outputs": [
        {
          "output_type": "stream",
          "text": [
            "[2, 4, 6]\n"
          ],
          "name": "stdout"
        }
      ]
    },
    {
      "cell_type": "code",
      "metadata": {
        "id": "HR5N14FOncWz",
        "colab_type": "code",
        "colab": {}
      },
      "source": [
        "def palindrom(n):\n",
        "  if n[::]==n[::-1] :\n",
        "    print('PALINDROM')\n",
        "  else :\n",
        "    print('no')"
      ],
      "execution_count": null,
      "outputs": []
    },
    {
      "cell_type": "code",
      "metadata": {
        "id": "PjBVETXAnv1j",
        "colab_type": "code",
        "colab": {
          "base_uri": "https://localhost:8080/",
          "height": 51
        },
        "outputId": "9671813e-bed0-4afe-9f7f-7cf87d42cdf8"
      },
      "source": [
        "print(palindrom(\"alla\"))"
      ],
      "execution_count": null,
      "outputs": [
        {
          "output_type": "stream",
          "text": [
            "PALINDROM\n",
            "None\n"
          ],
          "name": "stdout"
        }
      ]
    },
    {
      "cell_type": "code",
      "metadata": {
        "id": "6pjqwlkOq9dv",
        "colab_type": "code",
        "colab": {}
      },
      "source": [
        "a='python!'\n"
      ],
      "execution_count": null,
      "outputs": []
    },
    {
      "cell_type": "code",
      "metadata": {
        "id": "jne0s3YFrE-r",
        "colab_type": "code",
        "colab": {
          "base_uri": "https://localhost:8080/",
          "height": 35
        },
        "outputId": "3280b942-5c30-4795-a48e-d987d248cf2b"
      },
      "source": [
        "a[100:]"
      ],
      "execution_count": null,
      "outputs": [
        {
          "output_type": "execute_result",
          "data": {
            "application/vnd.google.colaboratory.intrinsic+json": {
              "type": "string"
            },
            "text/plain": [
              "''"
            ]
          },
          "metadata": {
            "tags": []
          },
          "execution_count": 40
        }
      ]
    },
    {
      "cell_type": "code",
      "metadata": {
        "id": "_Q_k47mls_EE",
        "colab_type": "code",
        "colab": {}
      },
      "source": [
        ""
      ],
      "execution_count": null,
      "outputs": []
    },
    {
      "cell_type": "code",
      "metadata": {
        "id": "f18YV5qoeyol",
        "colab_type": "code",
        "colab": {}
      },
      "source": [
        "fruits = [1, 2, 3]\n",
        "\n",
        "sum(fruits)\n"
      ],
      "execution_count": null,
      "outputs": []
    },
    {
      "cell_type": "code",
      "metadata": {
        "id": "10-iEkBBfTXd",
        "colab_type": "code",
        "colab": {
          "base_uri": "https://localhost:8080/",
          "height": 34
        },
        "outputId": "5fbb64d7-8370-4e1c-ac28-936ab9b15436"
      },
      "source": [
        "def my_function(n):\n",
        "  total=0\n",
        "  for x in n:\n",
        "    total+=x\n",
        "  print(x)\n",
        "\n",
        "fruits = [1,2,4]\n",
        "\n",
        "my_function(fruits)\n"
      ],
      "execution_count": null,
      "outputs": [
        {
          "output_type": "stream",
          "text": [
            "4\n"
          ],
          "name": "stdout"
        }
      ]
    },
    {
      "cell_type": "code",
      "metadata": {
        "id": "QRVznumbtAQp",
        "colab_type": "code",
        "colab": {}
      },
      "source": [
        " = {\n",
        "    12 : {\n",
        "    \"name\":\"alma\"\n",
        "}\n",
        "}"
      ],
      "execution_count": null,
      "outputs": []
    },
    {
      "cell_type": "code",
      "metadata": {
        "id": "Ys9low01trga",
        "colab_type": "code",
        "colab": {}
      },
      "source": [
        "l=[f]"
      ],
      "execution_count": null,
      "outputs": []
    },
    {
      "cell_type": "code",
      "metadata": {
        "id": "jXVBQ4nRtYRS",
        "colab_type": "code",
        "colab": {
          "base_uri": "https://localhost:8080/",
          "height": 34
        },
        "outputId": "908c5dc4-201c-431f-d018-d553d4cd7464"
      },
      "source": [
        "f[12]"
      ],
      "execution_count": null,
      "outputs": [
        {
          "output_type": "execute_result",
          "data": {
            "text/plain": [
              "{'name': 'alma'}"
            ]
          },
          "metadata": {
            "tags": []
          },
          "execution_count": 47
        }
      ]
    }
  ]
}